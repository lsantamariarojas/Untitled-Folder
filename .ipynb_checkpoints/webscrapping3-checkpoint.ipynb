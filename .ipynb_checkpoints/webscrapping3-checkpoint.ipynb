{
 "cells": [
  {
   "cell_type": "code",
   "execution_count": null,
   "metadata": {},
   "outputs": [],
   "source": []
  },
  {
   "cell_type": "markdown",
   "metadata": {},
   "source": [
    "### Series 3 of 3"
   ]
  },
  {
   "cell_type": "markdown",
   "metadata": {},
   "source": [
    "For this last chapter of the series, I will wrap up all the concepts that I have gone through so far to create a function that feeds from the NBA website and shows the results of the games played by a team in an specfic range of dates determined by the user, as well as a switcher option to see what games are currently live and what's its result at the moment fo querying. To later be displayed in a nice html format"
   ]
  },
  {
   "cell_type": "markdown",
   "metadata": {},
   "source": [
    "For that, I will make use of the logos database that was created in the first chapter and modify a bit the code to fit the functionalities mentioned before"
   ]
  },
  {
   "cell_type": "markdown",
   "metadata": {},
   "source": [
    "### Let's begin"
   ]
  },
  {
   "cell_type": "code",
   "execution_count": 1,
   "metadata": {},
   "outputs": [],
   "source": [
    "import sys\n",
    "sys.path.insert(0, \"C:/Users/luisa/Documents/GitHub/Web-Spider---Sentiment-Analysis/venv/env/Lib/site-packages\")\n",
    "\n",
    "sys.path.insert(0, \"C:/Users/RojasL/PycharmProjects/untitled3/venv/Lib/site-packages\")"
   ]
  },
  {
   "cell_type": "code",
   "execution_count": 32,
   "metadata": {},
   "outputs": [],
   "source": [
    "from selenium import webdriver\n",
    "from selenium.webdriver.common.keys import Keys\n",
    "from selenium.webdriver.common.by import By\n",
    "from selenium.webdriver.support.ui import WebDriverWait\n",
    "from selenium.webdriver.support import expected_conditions as EC\n",
    "import pandas as pd\n",
    "# Some HTML and display core function for flashy displays ;)\n",
    "from IPython.core.display import display, HTML, Image\n",
    "# Python widgets\n",
    "import numpy as np\n",
    "import datetime as dt\n",
    "import pytz"
   ]
  },
  {
   "cell_type": "markdown",
   "metadata": {},
   "source": [
    "So rolling back to our initial tutorial, we created a dataframe that has all the names of the teams plus the urls of the images for each team's logo on the NBA domain. This dataframe looks something like this: "
   ]
  },
  {
   "cell_type": "code",
   "execution_count": 3,
   "metadata": {},
   "outputs": [],
   "source": [
    "logos_db = pd.read_csv('C:/Users/RojasL/Downloads/Github/Curriculum/NBA_logos.csv')"
   ]
  },
  {
   "cell_type": "code",
   "execution_count": 5,
   "metadata": {},
   "outputs": [
    {
     "data": {
      "text/html": [
       "<div>\n",
       "<style scoped>\n",
       "    .dataframe tbody tr th:only-of-type {\n",
       "        vertical-align: middle;\n",
       "    }\n",
       "\n",
       "    .dataframe tbody tr th {\n",
       "        vertical-align: top;\n",
       "    }\n",
       "\n",
       "    .dataframe thead th {\n",
       "        text-align: right;\n",
       "    }\n",
       "</style>\n",
       "<table border=\"1\" class=\"dataframe\">\n",
       "  <thead>\n",
       "    <tr style=\"text-align: right;\">\n",
       "      <th></th>\n",
       "      <th>logo</th>\n",
       "      <th>team_temp</th>\n",
       "    </tr>\n",
       "  </thead>\n",
       "  <tbody>\n",
       "    <tr>\n",
       "      <th>0</th>\n",
       "      <td>https://stats.nba.com/media/img/teams/logos/BO...</td>\n",
       "      <td>Boston Celtics</td>\n",
       "    </tr>\n",
       "    <tr>\n",
       "      <th>1</th>\n",
       "      <td>https://stats.nba.com/media/img/teams/logos/BK...</td>\n",
       "      <td>Brooklyn Nets</td>\n",
       "    </tr>\n",
       "    <tr>\n",
       "      <th>2</th>\n",
       "      <td>https://stats.nba.com/media/img/teams/logos/NY...</td>\n",
       "      <td>New York Knicks</td>\n",
       "    </tr>\n",
       "    <tr>\n",
       "      <th>3</th>\n",
       "      <td>https://stats.nba.com/media/img/teams/logos/PH...</td>\n",
       "      <td>Philadelphia 76ers</td>\n",
       "    </tr>\n",
       "    <tr>\n",
       "      <th>4</th>\n",
       "      <td>https://stats.nba.com/media/img/teams/logos/TO...</td>\n",
       "      <td>Toronto Raptors</td>\n",
       "    </tr>\n",
       "  </tbody>\n",
       "</table>\n",
       "</div>"
      ],
      "text/plain": [
       "                                                logo           team_temp\n",
       "0  https://stats.nba.com/media/img/teams/logos/BO...      Boston Celtics\n",
       "1  https://stats.nba.com/media/img/teams/logos/BK...       Brooklyn Nets\n",
       "2  https://stats.nba.com/media/img/teams/logos/NY...     New York Knicks\n",
       "3  https://stats.nba.com/media/img/teams/logos/PH...  Philadelphia 76ers\n",
       "4  https://stats.nba.com/media/img/teams/logos/TO...     Toronto Raptors"
      ]
     },
     "execution_count": 5,
     "metadata": {},
     "output_type": "execute_result"
    }
   ],
   "source": [
    "logos_db[['logo', 'team_temp']].head()"
   ]
  },
  {
   "cell_type": "markdown",
   "metadata": {},
   "source": [
    "And if you had follow along the series, in chapter 2 I created a function that allows the user to select a team and the query will go as back in the past as the preseason to display the record so far of that selected team. Hence, we can recycle most of that code with the extra additions of adding a live switcher option and restraining the dates to whatever the user chooses."
   ]
  },
  {
   "cell_type": "markdown",
   "metadata": {},
   "source": [
    "I will take care of the both options at the same time as the live selection was somewhat added in the previous chapter. As for the date, we have already done a bit of date restriction in the previous chapter when restricting the selenium driver to go farther than today's date when iteratively clicking the see more games button"
   ]
  },
  {
   "cell_type": "markdown",
   "metadata": {},
   "source": [
    "When a game is happening live, we will see a different 'status' that displays at what minute of which quarter is the game currently being played. Instead of the usual 'Final' status that one get's once the game is over."
   ]
  },
  {
   "cell_type": "code",
   "execution_count": 8,
   "metadata": {},
   "outputs": [
    {
     "data": {
      "image/png": "[encoded data removed]",
      "text/plain": [
       "<IPython.core.display.Image object>"
      ]
     },
     "execution_count": 8,
     "metadata": {},
     "output_type": "execute_result"
    }
   ],
   "source": [
    "Image(wd + \"\\\\livegame.png\")"
   ]
  },
  {
   "cell_type": "markdown",
   "metadata": {},
   "source": [
    "Therefore, what we will like to do is that whenever the user selects live games rather than searching for a particular team, the application will show only the live games that are happening at the moment. So first, I will have to retrieve the data from the XPATH of the live games"
   ]
  },
  {
   "cell_type": "code",
   "execution_count": 44,
   "metadata": {},
   "outputs": [],
   "source": [
    "# Initiate the selenium driver with the NBA url\n",
    "driver = webdriver.Chrome(gecko_exe)\n",
    "url_stats = 'https://stats.nba.com/schedule/'"
   ]
  },
  {
   "cell_type": "markdown",
   "metadata": {},
   "source": [
    "Then, I will create a function to pass the dates, selected team, live games and pre season games that will return a dataframe with all the games that fulfill the conditions selected by the user. This function is very similar to the one in chapter 2 with some additions here and there to fit the live games selection and the date range option"
   ]
  },
  {
   "cell_type": "code",
   "execution_count": 55,
   "metadata": {},
   "outputs": [],
   "source": [
    "def retriever(live = True, initial_date = dt.date(2019,9,30), final_date = dt.date(2019, 10, 16), \n",
    "              pre_season_games = True, selected_team = None):\n",
    "    # NBA url passed\n",
    "    driver.get(url_stats)\n",
    "    # Final resultant database\n",
    "    final_dataframe = pd.DataFrame(columns = ['game_date', 'team1', 'team2', \n",
    "                                              'status', 'team1_score', 'team2_score']) \n",
    "    # For holding iteration results\n",
    "    temp_dataframe = final_dataframe.copy()\n",
    "        \n",
    "    '''\n",
    "    When user requests live, all live games will be shown.\n",
    "    Hence, selected team = None and date = today\n",
    "    '''    \n",
    "    if live:\n",
    "        initial_date = dt.datetime.now(pytz.timezone('US/Pacific')).date()\n",
    "        final_date = dt.datetime.now(pytz.timezone('US/Pacific')).date()\n",
    "        selected_team = None\n",
    "    else:         \n",
    "        if final_date > dt.datetime.now(pytz.timezone('US/Pacific')).date():\n",
    "            warnings.warn('Upper date selected is greater than today, \\\n",
    "            will be change for todays\\'s date')\n",
    "            final_date = dt.datetime.now(pytz.timezone('US/Pacific')).date()   \n",
    "        # Will only execute the see more script when non-live query selected, for default \n",
    "        # games are shown in intial page display\n",
    "        driver.execute_script(\"document.querySelector('[class=\\\"switch-paddle\\\"]').click()\")\n",
    "        # Same loop chapter 2\n",
    "        max_date = dt.date(1990,10,10)\n",
    "\n",
    "        while max_date < dt.datetime.now(pytz.timezone('US/Pacific')).date():     \n",
    "\n",
    "            wait = WebDriverWait(driver, 1)\n",
    "            show_more = wait.until(EC.element_to_be_clickable((By.XPATH,\"//a[@class='button'\\\n",
    "                            and @ng-click = 'seeMore()']\")))\n",
    "            show_more.click()\n",
    "\n",
    "            # Getting the dates of the current displayed games\n",
    "            for i in driver.find_elements_by_xpath(\"//section[@class \\\n",
    "                            ='row collapse schedule-content']\"):\n",
    "                date = i.get_attribute('data-game-day')\n",
    "                game_date = dt.date(int(date[0:4]), int(date[5:7]), int(date[8:10]))\n",
    "                max_date = max(max_date, game_date)\n",
    "    # Looping over each date, one date can have multiple games  \n",
    "    for i in driver.find_elements_by_xpath(\"//section[@class='row collapse schedule-content']\"):\n",
    "        date = i.get_attribute('data-game-day')\n",
    "        #print(date)\n",
    "        game_date = dt.date(int(date[0:4]), int(date[5:7]), int(date[8:10]))\n",
    "        if final_date >= game_date and initial_date <= game_date:\n",
    "            # Base on the current date position, search for:\n",
    "            game_location = \".//tr[contains(@class, 'schedule-game__team')]\"\n",
    "            '''NBA league teams are held in an 'a' tag non-NBA teams in a 'span' tag. This \n",
    "            applies for preseason games. Or conditional applied here'''\n",
    "            teams = format(\"|\").join([game_location + x for x in ['//a',  '//span']])\n",
    "            results = game_location + '/td[contains(@class, \"team-score\")]'\n",
    "            # If the team hasn't played in the date range selected\n",
    "            try:\n",
    "                length = len([x for x in i.find_elements_by_xpath(teams) \n",
    "                              if selected_team in x.text])\n",
    "            except:\n",
    "                length = 0\n",
    "                \n",
    "            if length > 0 or selected_team == None:\n",
    "                for j, v in enumerate(i.find_elements_by_xpath(teams)):\n",
    "                    team_score= i.find_elements_by_xpath(results)[j].text\n",
    "                    team = v.text\n",
    "                    # preseason games flag\n",
    "                    pre_season = \"span[@class = 'schedule-game__season']\"\n",
    "                    # game status flag. has the game concluded?\n",
    "                    final = \"span[contains(@ng-if, '::game.stt')]\"\n",
    "                    # If game is currently live\n",
    "                    time = \"span[contains(@class, 'hide-for-pre-game')]\"\n",
    "                    # Find the time and game status in the same branch where of the current \n",
    "                    # interation team \n",
    "                    ancestor = \".//ancestor::div[@class = 'row schedule-game__content']//\"\n",
    "                    both = format(\"|\").join(ancestor + x for x in [pre_season, final])\n",
    "                    # For live games\n",
    "                    current_time = v.find_elements_by_xpath(ancestor + time)[0].text\n",
    "                    \n",
    "                    try:\n",
    "                        status = format(\" - \").join([x.text for x in v.find_elements_by_xpath(both)])\n",
    "                        final_status = status + current_time   \n",
    "                        \n",
    "                        #print(\"PRE SEASON\" in status)\n",
    "                        if (\"PRE SEASON\" in status) & (pre_season_games == False):\n",
    "                            pass\n",
    "                        else:\n",
    "                            # repeater for dates and status on every team  \n",
    "                            switch = j % 2\n",
    "                            temp_dataframe.loc[0, ['game_date', 'status']] = [date, final_status]                        \n",
    "                            temp_dataframe.loc[0, ['team{}'.format(switch + 1), \n",
    "                                               'team{}_score'.format(switch + 1)]] = [team, int(team_score)]\n",
    "                                                        \n",
    "                            if live:\n",
    "                                bool_live = len(current_time) > 0                                \n",
    "                            else:\n",
    "                                bool_live = True\n",
    "                            if switch == 1:\n",
    "                                try:\n",
    "                                    boolean = sum([selected_team in x for x in \n",
    "                                                   temp_dataframe[['team1', 'team2']].values[0]])\n",
    "                                except:\n",
    "                                    boolean = 0\n",
    "                                if (selected_team == None or boolean > 0) and bool_live:\n",
    "                                    final_dataframe = pd.concat([final_dataframe, temp_dataframe], axis = 0)                             \n",
    "\n",
    "                    except:\n",
    "                        pass\n",
    "                    \n",
    "    return(final_dataframe)"
   ]
  },
  {
   "cell_type": "markdown",
   "metadata": {},
   "source": [
    "The function that I have just created is very similar to the one in the previous modulte with certain additions:\n",
    "* I start the function with two conditionals that would determine what will the selenium driver read depending on the user selection, If the user selects to run the live games then the dates will be set up as today and a live flag is turned on for later use in the functions, the sdecond conditional works out the dates input if a user wants to query certain dates games\n",
    "* At the very end, scoped in the outer most 'try' call there is a Preseason conditional to pass if the user does not want to take into account the preseason games in the final view of the information\n",
    "* a Boolean 'bool_live' is created for live selections in cases that there are not live games happening"
   ]
  },
  {
   "cell_type": "markdown",
   "metadata": {},
   "source": [
    "Now that we have a way of flexibly getting multiple outputs from the NBA website, the next thing to do, is to workout a html wrapper so we can display any selected information in a nice and clear looking format that works dynamically based on the amount of games or options that the user selects."
   ]
  },
  {
   "cell_type": "markdown",
   "metadata": {},
   "source": [
    "For that, I will use a grid layout (For better understanding of this concept please refer to https://www.w3schools.com/howto/howto_js_list_grid_view.asp) where one can display multiple columns within an html row to nicely format them and specify the amount of space that each piece of information should be taking. As I will like to prettify the display of the results by using the teams logos, the logos_db will be part of the passing arguments of the wrapper. Also, I will use the live and preseason selection parameter to set of the summary information of a selected team when ticking these options. For this part I will not go through the way in where the html tags were manipulated and filled to display the games information but do know that it was basically string manupulation to return a written html code to be displayed as the outcome"
   ]
  },
  {
   "cell_type": "code",
   "execution_count": 40,
   "metadata": {},
   "outputs": [],
   "source": [
    "def rendering_html(selected_team, dataframe, logos, live, pre_season_games):\n",
    "    # Merging the dataframe returning from the web scrapping function with the logos db\n",
    "    # for having logos of the winning and losing teams\n",
    "    final_dataframe = pd.merge(pd.merge(dataframe, logos, how = 'left', left_on = 'team1', \n",
    "                        right_on = 'team_temp'), logos,  how = 'left', left_on = 'team2', \n",
    "                               right_on = 'team_temp', suffixes = (None,\"2\"))\n",
    "    final_dataframe.rename(columns = {'logo': 'logo1'}, inplace =True)\n",
    "    final_dataframe.sort_values(by = 'game_date', ascending = False, inplace = True)\n",
    "    final_dataframe.reset_index(inplace = True, drop = True)\n",
    "    \n",
    "    \n",
    "    # Displaying the summary infomation of the selected team in the selected date period\n",
    "    # This will be skip if Live games option is selected\n",
    "    if selected_team != None and selected_team != '' and live != True:\n",
    "        #This conditional will return the win/lose record of the selected team\n",
    "        query_team = [x for x in final_dataframe[['team1', 'team2']].values[0] \n",
    "                      if selected_team.capitalize() in x]\n",
    "        team1_slot = final_dataframe[['team1']] == query_team[0]\n",
    "        team2_slot = (team1_slot - 1) * -1\n",
    "        results = final_dataframe['team1_score'] == final_dataframe[['team1_score', \n",
    "                                                         'team2_score']].max(axis = 1)\n",
    "        wins = sum((team1_slot.iloc[:, 0].values * results.values) + \n",
    "                   (team2_slot.iloc[:, 0].values *(results.values - 1) * -1))\n",
    "        losses = final_dataframe.shape[0] - wins        \n",
    "        \n",
    "        # Expected to be one if is an NBA team. Condition can be ommited\n",
    "        if len(query_team):\n",
    "            logo = [l for l, t in zip(logos['logo'], logos['team_temp']) \n",
    "                    if t == query_team[0]][0]\n",
    "            aggregate = \"({0} - {1})\".format(wins, losses)\n",
    "            pre_text = ''\n",
    "            if pre_season_games:\n",
    "                pre_text = 'Incl. Pre Season'\n",
    "            pre_text += ' in the query period'\n",
    "    # Getting the w3 styles \n",
    "    intro_string = '<link rel=\"stylesheet\" href=\"https://www.w3schools.com/w3css/4/w3.css\">' \\\n",
    "         '<div class = \"container\">'\n",
    "    team_string = ''\n",
    "    # Placing the summary format in html\n",
    "    if selected_team != None and selected_team != '' and live != True:\n",
    "        team_string = '<div class = \"row\">' \\\n",
    "                        '<div class= \"col-md-1\"><img src = {0} \\\n",
    "                style=\"max-height: 100px;\" /></div>' \\\n",
    "                        '<div class= \"col-md-11\">' \\\n",
    "                            '<div class = \"row\"><h2 style= \"margin-left:20px;\">{1}</h2></div>' \\\n",
    "                            '<div class = \"row\"><p style= \"margin-left:20px;\"><b>{2}</b></p></div>' \\\n",
    "                            '<div class = \"row\"><p style= \"margin-left:20px;\"><i>{3}</i></p></div>' \\\n",
    "                      '</div></div>'.format(logo, query_team[0], aggregate, pre_text)\n",
    "    games_string = ''\n",
    "    # Looping over the resultant games to display to show 3 games by row using \n",
    "    # a grid type display\n",
    "    for i, v in enumerate(final_dataframe['game_date']):\n",
    "        if i % 3 == 0:\n",
    "            if i > 0:\n",
    "                games_string += '</div>'\n",
    "            games_string += '<div class = \"row\">'\n",
    "        curr_status = final_dataframe.loc[i, 'status']\n",
    "        games_string += '<div class= \"col-md-4\" style=\"padding: 5px;\">'\\\n",
    "                            '<div class = \"row\">' \\\n",
    "                                '<h3 style= \"text-align:center; padding: 5px;\">{0}</h3>' \\\n",
    "                                '<p style= \"text-align:center\";><i>{1}</i></p>' \\\n",
    "                            '</div>'.format(v, curr_status)\n",
    "        for j in np.arange(1, 3):\n",
    "            curr_team = final_dataframe.loc[i, 'team{}'.format(j)]\n",
    "            curr_score = final_dataframe.loc[i, 'team{}_score'.format(j)]\n",
    "            curr_logo = final_dataframe.loc[i, 'logo{}'.format(j)]\n",
    "            games_string += '<div class = \"row\" style=\"padding:3px;\">' \\\n",
    "                                '<div class= \"col-md-2\"><img src= {0} style= \"max-height: 40px; display: block; margin-left: auto;  margin-right: auto;\"/></div>' \\\n",
    "                                '<div class= \"col-md-6\" style=\"position: relative\"><p style=\"margin-top: 3px;\">{1}</p></div>' \\\n",
    "                                '<div class= \"col-md-4\"><p style= \"text-align: center; position: absolute; top: 50%;\">{2}</p></div>' \\\n",
    "                            '</div>'.format(curr_logo, curr_team, curr_score)\n",
    "        games_string += '</div>'\n",
    "        # Closing div tags\n",
    "        if i == final_dataframe.shape[0]:\n",
    "            games_string += '</div></div>'\n",
    "\n",
    "\n",
    "    # Concatenating all html strings to produce output     \n",
    "    html_string = intro_string + team_string + games_string\n",
    "    \n",
    "    return(html_string)"
   ]
  },
  {
   "cell_type": "markdown",
   "metadata": {},
   "source": [
    "###  Calling web scrapper function"
   ]
  },
  {
   "cell_type": "code",
   "execution_count": 39,
   "metadata": {},
   "outputs": [],
   "source": [
    "dataframe = retriever(live = True, initial_date = None, final_date = None\n",
    "              , pre_season_games = False, selected_team = None)"
   ]
  },
  {
   "cell_type": "markdown",
   "metadata": {},
   "source": [
    "### Rendering in html the results"
   ]
  },
  {
   "cell_type": "code",
   "execution_count": 41,
   "metadata": {},
   "outputs": [],
   "source": [
    "html = rendering_html(selected_team = None, dataframe = dataframe, logos = logos_db, live = True, \n",
    "                      pre_season_games = False)"
   ]
  },
  {
   "cell_type": "markdown",
   "metadata": {},
   "source": [
    "Resulting example when selecting live games. (Moment of run 05/01/2020)"
   ]
  },
  {
   "cell_type": "code",
   "execution_count": 34,
   "metadata": {},
   "outputs": [
    {
     "data": {
      "text/html": [
       "<link rel=\"stylesheet\" href=\"https://www.w3schools.com/w3css/4/w3.css\"><div class = \"container\"><div class = \"row\"><div class= \"col-md-4\" style=\"padding: 5px;\"><div class = \"row\"><h3 style= \"text-align:center; padding: 5px;\">2020-01-05</h3><p style= \"text-align:center\";><i>4TH QTR11:04</i></p></div><div class = \"row\" style=\"padding:3px;\"><div class= \"col-md-2\"><img src= https://stats.nba.com/media/img/teams/logos/POR_logo.svg style= \"max-height: 40px; display: block; margin-left: auto;  margin-right: auto;\"/></div><div class= \"col-md-6\" style=\"position: relative\"><p style=\"margin-top: 3px;\">Portland Trail Blazers</p></div><div class= \"col-md-4\"><p style= \"text-align: center; position: absolute; top: 50%;\">84</p></div></div><div class = \"row\" style=\"padding:3px;\"><div class= \"col-md-2\"><img src= https://stats.nba.com/media/img/teams/logos/MIA_logo.svg style= \"max-height: 40px; display: block; margin-left: auto;  margin-right: auto;\"/></div><div class= \"col-md-6\" style=\"position: relative\"><p style=\"margin-top: 3px;\">Miami Heat</p></div><div class= \"col-md-4\"><p style= \"text-align: center; position: absolute; top: 50%;\">100</p></div></div></div><div class= \"col-md-4\" style=\"padding: 5px;\"><div class = \"row\"><h3 style= \"text-align:center; padding: 5px;\">2020-01-05</h3><p style= \"text-align:center\";><i>1ST QTR04:54</i></p></div><div class = \"row\" style=\"padding:3px;\"><div class= \"col-md-2\"><img src= https://stats.nba.com/media/img/teams/logos/MIN_logo.svg style= \"max-height: 40px; display: block; margin-left: auto;  margin-right: auto;\"/></div><div class= \"col-md-6\" style=\"position: relative\"><p style=\"margin-top: 3px;\">Minnesota Timberwolves</p></div><div class= \"col-md-4\"><p style= \"text-align: center; position: absolute; top: 50%;\">15</p></div></div><div class = \"row\" style=\"padding:3px;\"><div class= \"col-md-2\"><img src= https://stats.nba.com/media/img/teams/logos/CLE_logo.svg style= \"max-height: 40px; display: block; margin-left: auto;  margin-right: auto;\"/></div><div class= \"col-md-6\" style=\"position: relative\"><p style=\"margin-top: 3px;\">Cleveland Cavaliers</p></div><div class= \"col-md-4\"><p style= \"text-align: center; position: absolute; top: 50%;\">12</p></div></div></div>"
      ],
      "text/plain": [
       "<IPython.core.display.HTML object>"
      ]
     },
     "execution_count": 34,
     "metadata": {},
     "output_type": "execute_result"
    }
   ],
   "source": [
    "HTML(html)"
   ]
  },
  {
   "cell_type": "code",
   "execution_count": 56,
   "metadata": {},
   "outputs": [],
   "source": [
    "dataframe = retriever(live = False, initial_date = dt.date(2019, 9, 30) , final_date = dt.date(2020,1,5)\n",
    "              , pre_season_games = False, selected_team = 'Los Angeles Lakers')"
   ]
  },
  {
   "cell_type": "code",
   "execution_count": 58,
   "metadata": {},
   "outputs": [],
   "source": [
    "html = rendering_html(selected_team = None, dataframe = dataframe, logos = logos_db, live = True, \n",
    "                      pre_season_games = False)"
   ]
  },
  {
   "cell_type": "code",
   "execution_count": 59,
   "metadata": {},
   "outputs": [
    {
     "data": {
      "text/html": [
       "<link rel=\"stylesheet\" href=\"https://www.w3schools.com/w3css/4/w3.css\"><div class = \"container\"><div class = \"row\"><div class= \"col-md-4\" style=\"padding: 5px;\"><div class = \"row\"><h3 style= \"text-align:center; padding: 5px;\">2020-01-05</h3><p style= \"text-align:center\";><i>FINAL</i></p></div><div class = \"row\" style=\"padding:3px;\"><div class= \"col-md-2\"><img src= https://stats.nba.com/media/img/teams/logos/DET_logo.svg style= \"max-height: 40px; display: block; margin-left: auto;  margin-right: auto;\"/></div><div class= \"col-md-6\" style=\"position: relative\"><p style=\"margin-top: 3px;\">Detroit Pistons</p></div><div class= \"col-md-4\"><p style= \"text-align: center; position: absolute; top: 50%;\">99</p></div></div><div class = \"row\" style=\"padding:3px;\"><div class= \"col-md-2\"><img src= https://stats.nba.com/media/img/teams/logos/LAL_logo.svg style= \"max-height: 40px; display: block; margin-left: auto;  margin-right: auto;\"/></div><div class= \"col-md-6\" style=\"position: relative\"><p style=\"margin-top: 3px;\">Los Angeles Lakers</p></div><div class= \"col-md-4\"><p style= \"text-align: center; position: absolute; top: 50%;\">106</p></div></div></div><div class= \"col-md-4\" style=\"padding: 5px;\"><div class = \"row\"><h3 style= \"text-align:center; padding: 5px;\">2020-01-03</h3><p style= \"text-align:center\";><i>FINAL</i></p></div><div class = \"row\" style=\"padding:3px;\"><div class= \"col-md-2\"><img src= https://stats.nba.com/media/img/teams/logos/NOP_logo.svg style= \"max-height: 40px; display: block; margin-left: auto;  margin-right: auto;\"/></div><div class= \"col-md-6\" style=\"position: relative\"><p style=\"margin-top: 3px;\">New Orleans Pelicans</p></div><div class= \"col-md-4\"><p style= \"text-align: center; position: absolute; top: 50%;\">113</p></div></div><div class = \"row\" style=\"padding:3px;\"><div class= \"col-md-2\"><img src= https://stats.nba.com/media/img/teams/logos/LAL_logo.svg style= \"max-height: 40px; display: block; margin-left: auto;  margin-right: auto;\"/></div><div class= \"col-md-6\" style=\"position: relative\"><p style=\"margin-top: 3px;\">Los Angeles Lakers</p></div><div class= \"col-md-4\"><p style= \"text-align: center; position: absolute; top: 50%;\">123</p></div></div></div><div class= \"col-md-4\" style=\"padding: 5px;\"><div class = \"row\"><h3 style= \"text-align:center; padding: 5px;\">2020-01-01</h3><p style= \"text-align:center\";><i>FINAL</i></p></div><div class = \"row\" style=\"padding:3px;\"><div class= \"col-md-2\"><img src= https://stats.nba.com/media/img/teams/logos/PHX_logo.svg style= \"max-height: 40px; display: block; margin-left: auto;  margin-right: auto;\"/></div><div class= \"col-md-6\" style=\"position: relative\"><p style=\"margin-top: 3px;\">Phoenix Suns</p></div><div class= \"col-md-4\"><p style= \"text-align: center; position: absolute; top: 50%;\">107</p></div></div><div class = \"row\" style=\"padding:3px;\"><div class= \"col-md-2\"><img src= https://stats.nba.com/media/img/teams/logos/LAL_logo.svg style= \"max-height: 40px; display: block; margin-left: auto;  margin-right: auto;\"/></div><div class= \"col-md-6\" style=\"position: relative\"><p style=\"margin-top: 3px;\">Los Angeles Lakers</p></div><div class= \"col-md-4\"><p style= \"text-align: center; position: absolute; top: 50%;\">117</p></div></div></div></div><div class = \"row\"><div class= \"col-md-4\" style=\"padding: 5px;\"><div class = \"row\"><h3 style= \"text-align:center; padding: 5px;\">2019-12-29</h3><p style= \"text-align:center\";><i>FINAL</i></p></div><div class = \"row\" style=\"padding:3px;\"><div class= \"col-md-2\"><img src= https://stats.nba.com/media/img/teams/logos/DAL_logo.svg style= \"max-height: 40px; display: block; margin-left: auto;  margin-right: auto;\"/></div><div class= \"col-md-6\" style=\"position: relative\"><p style=\"margin-top: 3px;\">Dallas Mavericks</p></div><div class= \"col-md-4\"><p style= \"text-align: center; position: absolute; top: 50%;\">95</p></div></div><div class = \"row\" style=\"padding:3px;\"><div class= \"col-md-2\"><img src= https://stats.nba.com/media/img/teams/logos/LAL_logo.svg style= \"max-height: 40px; display: block; margin-left: auto;  margin-right: auto;\"/></div><div class= \"col-md-6\" style=\"position: relative\"><p style=\"margin-top: 3px;\">Los Angeles Lakers</p></div><div class= \"col-md-4\"><p style= \"text-align: center; position: absolute; top: 50%;\">108</p></div></div></div><div class= \"col-md-4\" style=\"padding: 5px;\"><div class = \"row\"><h3 style= \"text-align:center; padding: 5px;\">2019-12-28</h3><p style= \"text-align:center\";><i>FINAL</i></p></div><div class = \"row\" style=\"padding:3px;\"><div class= \"col-md-2\"><img src= https://stats.nba.com/media/img/teams/logos/LAL_logo.svg style= \"max-height: 40px; display: block; margin-left: auto;  margin-right: auto;\"/></div><div class= \"col-md-6\" style=\"position: relative\"><p style=\"margin-top: 3px;\">Los Angeles Lakers</p></div><div class= \"col-md-4\"><p style= \"text-align: center; position: absolute; top: 50%;\">128</p></div></div><div class = \"row\" style=\"padding:3px;\"><div class= \"col-md-2\"><img src= https://stats.nba.com/media/img/teams/logos/POR_logo.svg style= \"max-height: 40px; display: block; margin-left: auto;  margin-right: auto;\"/></div><div class= \"col-md-6\" style=\"position: relative\"><p style=\"margin-top: 3px;\">Portland Trail Blazers</p></div><div class= \"col-md-4\"><p style= \"text-align: center; position: absolute; top: 50%;\">120</p></div></div></div><div class= \"col-md-4\" style=\"padding: 5px;\"><div class = \"row\"><h3 style= \"text-align:center; padding: 5px;\">2019-12-25</h3><p style= \"text-align:center\";><i>FINAL</i></p></div><div class = \"row\" style=\"padding:3px;\"><div class= \"col-md-2\"><img src= https://stats.nba.com/media/img/teams/logos/LAC_logo.svg style= \"max-height: 40px; display: block; margin-left: auto;  margin-right: auto;\"/></div><div class= \"col-md-6\" style=\"position: relative\"><p style=\"margin-top: 3px;\">LA Clippers</p></div><div class= \"col-md-4\"><p style= \"text-align: center; position: absolute; top: 50%;\">111</p></div></div><div class = \"row\" style=\"padding:3px;\"><div class= \"col-md-2\"><img src= https://stats.nba.com/media/img/teams/logos/LAL_logo.svg style= \"max-height: 40px; display: block; margin-left: auto;  margin-right: auto;\"/></div><div class= \"col-md-6\" style=\"position: relative\"><p style=\"margin-top: 3px;\">Los Angeles Lakers</p></div><div class= \"col-md-4\"><p style= \"text-align: center; position: absolute; top: 50%;\">106</p></div></div></div></div><div class = \"row\"><div class= \"col-md-4\" style=\"padding: 5px;\"><div class = \"row\"><h3 style= \"text-align:center; padding: 5px;\">2019-12-22</h3><p style= \"text-align:center\";><i>FINAL</i></p></div><div class = \"row\" style=\"padding:3px;\"><div class= \"col-md-2\"><img src= https://stats.nba.com/media/img/teams/logos/DEN_logo.svg style= \"max-height: 40px; display: block; margin-left: auto;  margin-right: auto;\"/></div><div class= \"col-md-6\" style=\"position: relative\"><p style=\"margin-top: 3px;\">Denver Nuggets</p></div><div class= \"col-md-4\"><p style= \"text-align: center; position: absolute; top: 50%;\">128</p></div></div><div class = \"row\" style=\"padding:3px;\"><div class= \"col-md-2\"><img src= https://stats.nba.com/media/img/teams/logos/LAL_logo.svg style= \"max-height: 40px; display: block; margin-left: auto;  margin-right: auto;\"/></div><div class= \"col-md-6\" style=\"position: relative\"><p style=\"margin-top: 3px;\">Los Angeles Lakers</p></div><div class= \"col-md-4\"><p style= \"text-align: center; position: absolute; top: 50%;\">104</p></div></div></div><div class= \"col-md-4\" style=\"padding: 5px;\"><div class = \"row\"><h3 style= \"text-align:center; padding: 5px;\">2019-12-19</h3><p style= \"text-align:center\";><i>FINAL</i></p></div><div class = \"row\" style=\"padding:3px;\"><div class= \"col-md-2\"><img src= https://stats.nba.com/media/img/teams/logos/LAL_logo.svg style= \"max-height: 40px; display: block; margin-left: auto;  margin-right: auto;\"/></div><div class= \"col-md-6\" style=\"position: relative\"><p style=\"margin-top: 3px;\">Los Angeles Lakers</p></div><div class= \"col-md-4\"><p style= \"text-align: center; position: absolute; top: 50%;\">104</p></div></div><div class = \"row\" style=\"padding:3px;\"><div class= \"col-md-2\"><img src= https://stats.nba.com/media/img/teams/logos/MIL_logo.svg style= \"max-height: 40px; display: block; margin-left: auto;  margin-right: auto;\"/></div><div class= \"col-md-6\" style=\"position: relative\"><p style=\"margin-top: 3px;\">Milwaukee Bucks</p></div><div class= \"col-md-4\"><p style= \"text-align: center; position: absolute; top: 50%;\">111</p></div></div></div><div class= \"col-md-4\" style=\"padding: 5px;\"><div class = \"row\"><h3 style= \"text-align:center; padding: 5px;\">2019-12-17</h3><p style= \"text-align:center\";><i>FINAL</i></p></div><div class = \"row\" style=\"padding:3px;\"><div class= \"col-md-2\"><img src= https://stats.nba.com/media/img/teams/logos/LAL_logo.svg style= \"max-height: 40px; display: block; margin-left: auto;  margin-right: auto;\"/></div><div class= \"col-md-6\" style=\"position: relative\"><p style=\"margin-top: 3px;\">Los Angeles Lakers</p></div><div class= \"col-md-4\"><p style= \"text-align: center; position: absolute; top: 50%;\">102</p></div></div><div class = \"row\" style=\"padding:3px;\"><div class= \"col-md-2\"><img src= https://stats.nba.com/media/img/teams/logos/IND_logo.svg style= \"max-height: 40px; display: block; margin-left: auto;  margin-right: auto;\"/></div><div class= \"col-md-6\" style=\"position: relative\"><p style=\"margin-top: 3px;\">Indiana Pacers</p></div><div class= \"col-md-4\"><p style= \"text-align: center; position: absolute; top: 50%;\">105</p></div></div></div></div><div class = \"row\"><div class= \"col-md-4\" style=\"padding: 5px;\"><div class = \"row\"><h3 style= \"text-align:center; padding: 5px;\">2019-12-15</h3><p style= \"text-align:center\";><i>FINAL</i></p></div><div class = \"row\" style=\"padding:3px;\"><div class= \"col-md-2\"><img src= https://stats.nba.com/media/img/teams/logos/LAL_logo.svg style= \"max-height: 40px; display: block; margin-left: auto;  margin-right: auto;\"/></div><div class= \"col-md-6\" style=\"position: relative\"><p style=\"margin-top: 3px;\">Los Angeles Lakers</p></div><div class= \"col-md-4\"><p style= \"text-align: center; position: absolute; top: 50%;\">101</p></div></div><div class = \"row\" style=\"padding:3px;\"><div class= \"col-md-2\"><img src= https://stats.nba.com/media/img/teams/logos/ATL_logo.svg style= \"max-height: 40px; display: block; margin-left: auto;  margin-right: auto;\"/></div><div class= \"col-md-6\" style=\"position: relative\"><p style=\"margin-top: 3px;\">Atlanta Hawks</p></div><div class= \"col-md-4\"><p style= \"text-align: center; position: absolute; top: 50%;\">96</p></div></div></div><div class= \"col-md-4\" style=\"padding: 5px;\"><div class = \"row\"><h3 style= \"text-align:center; padding: 5px;\">2019-12-13</h3><p style= \"text-align:center\";><i>FINAL</i></p></div><div class = \"row\" style=\"padding:3px;\"><div class= \"col-md-2\"><img src= https://stats.nba.com/media/img/teams/logos/LAL_logo.svg style= \"max-height: 40px; display: block; margin-left: auto;  margin-right: auto;\"/></div><div class= \"col-md-6\" style=\"position: relative\"><p style=\"margin-top: 3px;\">Los Angeles Lakers</p></div><div class= \"col-md-4\"><p style= \"text-align: center; position: absolute; top: 50%;\">113</p></div></div><div class = \"row\" style=\"padding:3px;\"><div class= \"col-md-2\"><img src= https://stats.nba.com/media/img/teams/logos/MIA_logo.svg style= \"max-height: 40px; display: block; margin-left: auto;  margin-right: auto;\"/></div><div class= \"col-md-6\" style=\"position: relative\"><p style=\"margin-top: 3px;\">Miami Heat</p></div><div class= \"col-md-4\"><p style= \"text-align: center; position: absolute; top: 50%;\">110</p></div></div></div><div class= \"col-md-4\" style=\"padding: 5px;\"><div class = \"row\"><h3 style= \"text-align:center; padding: 5px;\">2019-12-11</h3><p style= \"text-align:center\";><i>FINAL</i></p></div><div class = \"row\" style=\"padding:3px;\"><div class= \"col-md-2\"><img src= https://stats.nba.com/media/img/teams/logos/LAL_logo.svg style= \"max-height: 40px; display: block; margin-left: auto;  margin-right: auto;\"/></div><div class= \"col-md-6\" style=\"position: relative\"><p style=\"margin-top: 3px;\">Los Angeles Lakers</p></div><div class= \"col-md-4\"><p style= \"text-align: center; position: absolute; top: 50%;\">96</p></div></div><div class = \"row\" style=\"padding:3px;\"><div class= \"col-md-2\"><img src= https://stats.nba.com/media/img/teams/logos/ORL_logo.svg style= \"max-height: 40px; display: block; margin-left: auto;  margin-right: auto;\"/></div><div class= \"col-md-6\" style=\"position: relative\"><p style=\"margin-top: 3px;\">Orlando Magic</p></div><div class= \"col-md-4\"><p style= \"text-align: center; position: absolute; top: 50%;\">87</p></div></div></div></div><div class = \"row\"><div class= \"col-md-4\" style=\"padding: 5px;\"><div class = \"row\"><h3 style= \"text-align:center; padding: 5px;\">2019-12-08</h3><p style= \"text-align:center\";><i>FINAL</i></p></div><div class = \"row\" style=\"padding:3px;\"><div class= \"col-md-2\"><img src= https://stats.nba.com/media/img/teams/logos/MIN_logo.svg style= \"max-height: 40px; display: block; margin-left: auto;  margin-right: auto;\"/></div><div class= \"col-md-6\" style=\"position: relative\"><p style=\"margin-top: 3px;\">Minnesota Timberwolves</p></div><div class= \"col-md-4\"><p style= \"text-align: center; position: absolute; top: 50%;\">125</p></div></div><div class = \"row\" style=\"padding:3px;\"><div class= \"col-md-2\"><img src= https://stats.nba.com/media/img/teams/logos/LAL_logo.svg style= \"max-height: 40px; display: block; margin-left: auto;  margin-right: auto;\"/></div><div class= \"col-md-6\" style=\"position: relative\"><p style=\"margin-top: 3px;\">Los Angeles Lakers</p></div><div class= \"col-md-4\"><p style= \"text-align: center; position: absolute; top: 50%;\">142</p></div></div></div><div class= \"col-md-4\" style=\"padding: 5px;\"><div class = \"row\"><h3 style= \"text-align:center; padding: 5px;\">2019-12-06</h3><p style= \"text-align:center\";><i>FINAL</i></p></div><div class = \"row\" style=\"padding:3px;\"><div class= \"col-md-2\"><img src= https://stats.nba.com/media/img/teams/logos/LAL_logo.svg style= \"max-height: 40px; display: block; margin-left: auto;  margin-right: auto;\"/></div><div class= \"col-md-6\" style=\"position: relative\"><p style=\"margin-top: 3px;\">Los Angeles Lakers</p></div><div class= \"col-md-4\"><p style= \"text-align: center; position: absolute; top: 50%;\">136</p></div></div><div class = \"row\" style=\"padding:3px;\"><div class= \"col-md-2\"><img src= https://stats.nba.com/media/img/teams/logos/POR_logo.svg style= \"max-height: 40px; display: block; margin-left: auto;  margin-right: auto;\"/></div><div class= \"col-md-6\" style=\"position: relative\"><p style=\"margin-top: 3px;\">Portland Trail Blazers</p></div><div class= \"col-md-4\"><p style= \"text-align: center; position: absolute; top: 50%;\">113</p></div></div></div><div class= \"col-md-4\" style=\"padding: 5px;\"><div class = \"row\"><h3 style= \"text-align:center; padding: 5px;\">2019-12-04</h3><p style= \"text-align:center\";><i>FINAL</i></p></div><div class = \"row\" style=\"padding:3px;\"><div class= \"col-md-2\"><img src= https://stats.nba.com/media/img/teams/logos/LAL_logo.svg style= \"max-height: 40px; display: block; margin-left: auto;  margin-right: auto;\"/></div><div class= \"col-md-6\" style=\"position: relative\"><p style=\"margin-top: 3px;\">Los Angeles Lakers</p></div><div class= \"col-md-4\"><p style= \"text-align: center; position: absolute; top: 50%;\">121</p></div></div><div class = \"row\" style=\"padding:3px;\"><div class= \"col-md-2\"><img src= https://stats.nba.com/media/img/teams/logos/UTA_logo.svg style= \"max-height: 40px; display: block; margin-left: auto;  margin-right: auto;\"/></div><div class= \"col-md-6\" style=\"position: relative\"><p style=\"margin-top: 3px;\">Utah Jazz</p></div><div class= \"col-md-4\"><p style= \"text-align: center; position: absolute; top: 50%;\">96</p></div></div></div></div><div class = \"row\"><div class= \"col-md-4\" style=\"padding: 5px;\"><div class = \"row\"><h3 style= \"text-align:center; padding: 5px;\">2019-12-03</h3><p style= \"text-align:center\";><i>FINAL</i></p></div><div class = \"row\" style=\"padding:3px;\"><div class= \"col-md-2\"><img src= https://stats.nba.com/media/img/teams/logos/LAL_logo.svg style= \"max-height: 40px; display: block; margin-left: auto;  margin-right: auto;\"/></div><div class= \"col-md-6\" style=\"position: relative\"><p style=\"margin-top: 3px;\">Los Angeles Lakers</p></div><div class= \"col-md-4\"><p style= \"text-align: center; position: absolute; top: 50%;\">105</p></div></div><div class = \"row\" style=\"padding:3px;\"><div class= \"col-md-2\"><img src= https://stats.nba.com/media/img/teams/logos/DEN_logo.svg style= \"max-height: 40px; display: block; margin-left: auto;  margin-right: auto;\"/></div><div class= \"col-md-6\" style=\"position: relative\"><p style=\"margin-top: 3px;\">Denver Nuggets</p></div><div class= \"col-md-4\"><p style= \"text-align: center; position: absolute; top: 50%;\">96</p></div></div></div><div class= \"col-md-4\" style=\"padding: 5px;\"><div class = \"row\"><h3 style= \"text-align:center; padding: 5px;\">2019-12-01</h3><p style= \"text-align:center\";><i>FINAL</i></p></div><div class = \"row\" style=\"padding:3px;\"><div class= \"col-md-2\"><img src= https://stats.nba.com/media/img/teams/logos/DAL_logo.svg style= \"max-height: 40px; display: block; margin-left: auto;  margin-right: auto;\"/></div><div class= \"col-md-6\" style=\"position: relative\"><p style=\"margin-top: 3px;\">Dallas Mavericks</p></div><div class= \"col-md-4\"><p style= \"text-align: center; position: absolute; top: 50%;\">114</p></div></div><div class = \"row\" style=\"padding:3px;\"><div class= \"col-md-2\"><img src= https://stats.nba.com/media/img/teams/logos/LAL_logo.svg style= \"max-height: 40px; display: block; margin-left: auto;  margin-right: auto;\"/></div><div class= \"col-md-6\" style=\"position: relative\"><p style=\"margin-top: 3px;\">Los Angeles Lakers</p></div><div class= \"col-md-4\"><p style= \"text-align: center; position: absolute; top: 50%;\">100</p></div></div></div><div class= \"col-md-4\" style=\"padding: 5px;\"><div class = \"row\"><h3 style= \"text-align:center; padding: 5px;\">2019-11-29</h3><p style= \"text-align:center\";><i>FINAL</i></p></div><div class = \"row\" style=\"padding:3px;\"><div class= \"col-md-2\"><img src= https://stats.nba.com/media/img/teams/logos/WAS_logo.svg style= \"max-height: 40px; display: block; margin-left: auto;  margin-right: auto;\"/></div><div class= \"col-md-6\" style=\"position: relative\"><p style=\"margin-top: 3px;\">Washington Wizards</p></div><div class= \"col-md-4\"><p style= \"text-align: center; position: absolute; top: 50%;\">103</p></div></div><div class = \"row\" style=\"padding:3px;\"><div class= \"col-md-2\"><img src= https://stats.nba.com/media/img/teams/logos/LAL_logo.svg style= \"max-height: 40px; display: block; margin-left: auto;  margin-right: auto;\"/></div><div class= \"col-md-6\" style=\"position: relative\"><p style=\"margin-top: 3px;\">Los Angeles Lakers</p></div><div class= \"col-md-4\"><p style= \"text-align: center; position: absolute; top: 50%;\">125</p></div></div></div></div><div class = \"row\"><div class= \"col-md-4\" style=\"padding: 5px;\"><div class = \"row\"><h3 style= \"text-align:center; padding: 5px;\">2019-11-27</h3><p style= \"text-align:center\";><i>FINAL</i></p></div><div class = \"row\" style=\"padding:3px;\"><div class= \"col-md-2\"><img src= https://stats.nba.com/media/img/teams/logos/LAL_logo.svg style= \"max-height: 40px; display: block; margin-left: auto;  margin-right: auto;\"/></div><div class= \"col-md-6\" style=\"position: relative\"><p style=\"margin-top: 3px;\">Los Angeles Lakers</p></div><div class= \"col-md-4\"><p style= \"text-align: center; position: absolute; top: 50%;\">114</p></div></div><div class = \"row\" style=\"padding:3px;\"><div class= \"col-md-2\"><img src= https://stats.nba.com/media/img/teams/logos/NOP_logo.svg style= \"max-height: 40px; display: block; margin-left: auto;  margin-right: auto;\"/></div><div class= \"col-md-6\" style=\"position: relative\"><p style=\"margin-top: 3px;\">New Orleans Pelicans</p></div><div class= \"col-md-4\"><p style= \"text-align: center; position: absolute; top: 50%;\">110</p></div></div></div><div class= \"col-md-4\" style=\"padding: 5px;\"><div class = \"row\"><h3 style= \"text-align:center; padding: 5px;\">2019-11-25</h3><p style= \"text-align:center\";><i>FINAL</i></p></div><div class = \"row\" style=\"padding:3px;\"><div class= \"col-md-2\"><img src= https://stats.nba.com/media/img/teams/logos/LAL_logo.svg style= \"max-height: 40px; display: block; margin-left: auto;  margin-right: auto;\"/></div><div class= \"col-md-6\" style=\"position: relative\"><p style=\"margin-top: 3px;\">Los Angeles Lakers</p></div><div class= \"col-md-4\"><p style= \"text-align: center; position: absolute; top: 50%;\">114</p></div></div><div class = \"row\" style=\"padding:3px;\"><div class= \"col-md-2\"><img src= https://stats.nba.com/media/img/teams/logos/SAS_logo.svg style= \"max-height: 40px; display: block; margin-left: auto;  margin-right: auto;\"/></div><div class= \"col-md-6\" style=\"position: relative\"><p style=\"margin-top: 3px;\">San Antonio Spurs</p></div><div class= \"col-md-4\"><p style= \"text-align: center; position: absolute; top: 50%;\">104</p></div></div></div><div class= \"col-md-4\" style=\"padding: 5px;\"><div class = \"row\"><h3 style= \"text-align:center; padding: 5px;\">2019-11-23</h3><p style= \"text-align:center\";><i>FINAL</i></p></div><div class = \"row\" style=\"padding:3px;\"><div class= \"col-md-2\"><img src= https://stats.nba.com/media/img/teams/logos/LAL_logo.svg style= \"max-height: 40px; display: block; margin-left: auto;  margin-right: auto;\"/></div><div class= \"col-md-6\" style=\"position: relative\"><p style=\"margin-top: 3px;\">Los Angeles Lakers</p></div><div class= \"col-md-4\"><p style= \"text-align: center; position: absolute; top: 50%;\">109</p></div></div><div class = \"row\" style=\"padding:3px;\"><div class= \"col-md-2\"><img src= https://stats.nba.com/media/img/teams/logos/MEM_logo.svg style= \"max-height: 40px; display: block; margin-left: auto;  margin-right: auto;\"/></div><div class= \"col-md-6\" style=\"position: relative\"><p style=\"margin-top: 3px;\">Memphis Grizzlies</p></div><div class= \"col-md-4\"><p style= \"text-align: center; position: absolute; top: 50%;\">108</p></div></div></div></div><div class = \"row\"><div class= \"col-md-4\" style=\"padding: 5px;\"><div class = \"row\"><h3 style= \"text-align:center; padding: 5px;\">2019-11-22</h3><p style= \"text-align:center\";><i>FINAL</i></p></div><div class = \"row\" style=\"padding:3px;\"><div class= \"col-md-2\"><img src= https://stats.nba.com/media/img/teams/logos/LAL_logo.svg style= \"max-height: 40px; display: block; margin-left: auto;  margin-right: auto;\"/></div><div class= \"col-md-6\" style=\"position: relative\"><p style=\"margin-top: 3px;\">Los Angeles Lakers</p></div><div class= \"col-md-4\"><p style= \"text-align: center; position: absolute; top: 50%;\">130</p></div></div><div class = \"row\" style=\"padding:3px;\"><div class= \"col-md-2\"><img src= https://stats.nba.com/media/img/teams/logos/OKC_logo.svg style= \"max-height: 40px; display: block; margin-left: auto;  margin-right: auto;\"/></div><div class= \"col-md-6\" style=\"position: relative\"><p style=\"margin-top: 3px;\">Oklahoma City Thunder</p></div><div class= \"col-md-4\"><p style= \"text-align: center; position: absolute; top: 50%;\">127</p></div></div></div><div class= \"col-md-4\" style=\"padding: 5px;\"><div class = \"row\"><h3 style= \"text-align:center; padding: 5px;\">2019-11-19</h3><p style= \"text-align:center\";><i>FINAL</i></p></div><div class = \"row\" style=\"padding:3px;\"><div class= \"col-md-2\"><img src= https://stats.nba.com/media/img/teams/logos/OKC_logo.svg style= \"max-height: 40px; display: block; margin-left: auto;  margin-right: auto;\"/></div><div class= \"col-md-6\" style=\"position: relative\"><p style=\"margin-top: 3px;\">Oklahoma City Thunder</p></div><div class= \"col-md-4\"><p style= \"text-align: center; position: absolute; top: 50%;\">107</p></div></div><div class = \"row\" style=\"padding:3px;\"><div class= \"col-md-2\"><img src= https://stats.nba.com/media/img/teams/logos/LAL_logo.svg style= \"max-height: 40px; display: block; margin-left: auto;  margin-right: auto;\"/></div><div class= \"col-md-6\" style=\"position: relative\"><p style=\"margin-top: 3px;\">Los Angeles Lakers</p></div><div class= \"col-md-4\"><p style= \"text-align: center; position: absolute; top: 50%;\">112</p></div></div></div><div class= \"col-md-4\" style=\"padding: 5px;\"><div class = \"row\"><h3 style= \"text-align:center; padding: 5px;\">2019-11-17</h3><p style= \"text-align:center\";><i>FINAL</i></p></div><div class = \"row\" style=\"padding:3px;\"><div class= \"col-md-2\"><img src= https://stats.nba.com/media/img/teams/logos/ATL_logo.svg style= \"max-height: 40px; display: block; margin-left: auto;  margin-right: auto;\"/></div><div class= \"col-md-6\" style=\"position: relative\"><p style=\"margin-top: 3px;\">Atlanta Hawks</p></div><div class= \"col-md-4\"><p style= \"text-align: center; position: absolute; top: 50%;\">101</p></div></div><div class = \"row\" style=\"padding:3px;\"><div class= \"col-md-2\"><img src= https://stats.nba.com/media/img/teams/logos/LAL_logo.svg style= \"max-height: 40px; display: block; margin-left: auto;  margin-right: auto;\"/></div><div class= \"col-md-6\" style=\"position: relative\"><p style=\"margin-top: 3px;\">Los Angeles Lakers</p></div><div class= \"col-md-4\"><p style= \"text-align: center; position: absolute; top: 50%;\">122</p></div></div></div></div><div class = \"row\"><div class= \"col-md-4\" style=\"padding: 5px;\"><div class = \"row\"><h3 style= \"text-align:center; padding: 5px;\">2019-11-15</h3><p style= \"text-align:center\";><i>FINAL</i></p></div><div class = \"row\" style=\"padding:3px;\"><div class= \"col-md-2\"><img src= https://stats.nba.com/media/img/teams/logos/SAC_logo.svg style= \"max-height: 40px; display: block; margin-left: auto;  margin-right: auto;\"/></div><div class= \"col-md-6\" style=\"position: relative\"><p style=\"margin-top: 3px;\">Sacramento Kings</p></div><div class= \"col-md-4\"><p style= \"text-align: center; position: absolute; top: 50%;\">97</p></div></div><div class = \"row\" style=\"padding:3px;\"><div class= \"col-md-2\"><img src= https://stats.nba.com/media/img/teams/logos/LAL_logo.svg style= \"max-height: 40px; display: block; margin-left: auto;  margin-right: auto;\"/></div><div class= \"col-md-6\" style=\"position: relative\"><p style=\"margin-top: 3px;\">Los Angeles Lakers</p></div><div class= \"col-md-4\"><p style= \"text-align: center; position: absolute; top: 50%;\">99</p></div></div></div><div class= \"col-md-4\" style=\"padding: 5px;\"><div class = \"row\"><h3 style= \"text-align:center; padding: 5px;\">2019-11-13</h3><p style= \"text-align:center\";><i>FINAL</i></p></div><div class = \"row\" style=\"padding:3px;\"><div class= \"col-md-2\"><img src= https://stats.nba.com/media/img/teams/logos/GSW_logo.svg style= \"max-height: 40px; display: block; margin-left: auto;  margin-right: auto;\"/></div><div class= \"col-md-6\" style=\"position: relative\"><p style=\"margin-top: 3px;\">Golden State Warriors</p></div><div class= \"col-md-4\"><p style= \"text-align: center; position: absolute; top: 50%;\">94</p></div></div><div class = \"row\" style=\"padding:3px;\"><div class= \"col-md-2\"><img src= https://stats.nba.com/media/img/teams/logos/LAL_logo.svg style= \"max-height: 40px; display: block; margin-left: auto;  margin-right: auto;\"/></div><div class= \"col-md-6\" style=\"position: relative\"><p style=\"margin-top: 3px;\">Los Angeles Lakers</p></div><div class= \"col-md-4\"><p style= \"text-align: center; position: absolute; top: 50%;\">120</p></div></div></div><div class= \"col-md-4\" style=\"padding: 5px;\"><div class = \"row\"><h3 style= \"text-align:center; padding: 5px;\">2019-11-12</h3><p style= \"text-align:center\";><i>FINAL</i></p></div><div class = \"row\" style=\"padding:3px;\"><div class= \"col-md-2\"><img src= https://stats.nba.com/media/img/teams/logos/LAL_logo.svg style= \"max-height: 40px; display: block; margin-left: auto;  margin-right: auto;\"/></div><div class= \"col-md-6\" style=\"position: relative\"><p style=\"margin-top: 3px;\">Los Angeles Lakers</p></div><div class= \"col-md-4\"><p style= \"text-align: center; position: absolute; top: 50%;\">123</p></div></div><div class = \"row\" style=\"padding:3px;\"><div class= \"col-md-2\"><img src= https://stats.nba.com/media/img/teams/logos/PHX_logo.svg style= \"max-height: 40px; display: block; margin-left: auto;  margin-right: auto;\"/></div><div class= \"col-md-6\" style=\"position: relative\"><p style=\"margin-top: 3px;\">Phoenix Suns</p></div><div class= \"col-md-4\"><p style= \"text-align: center; position: absolute; top: 50%;\">115</p></div></div></div></div><div class = \"row\"><div class= \"col-md-4\" style=\"padding: 5px;\"><div class = \"row\"><h3 style= \"text-align:center; padding: 5px;\">2019-11-10</h3><p style= \"text-align:center\";><i>FINAL</i></p></div><div class = \"row\" style=\"padding:3px;\"><div class= \"col-md-2\"><img src= https://stats.nba.com/media/img/teams/logos/TOR_logo.svg style= \"max-height: 40px; display: block; margin-left: auto;  margin-right: auto;\"/></div><div class= \"col-md-6\" style=\"position: relative\"><p style=\"margin-top: 3px;\">Toronto Raptors</p></div><div class= \"col-md-4\"><p style= \"text-align: center; position: absolute; top: 50%;\">113</p></div></div><div class = \"row\" style=\"padding:3px;\"><div class= \"col-md-2\"><img src= https://stats.nba.com/media/img/teams/logos/LAL_logo.svg style= \"max-height: 40px; display: block; margin-left: auto;  margin-right: auto;\"/></div><div class= \"col-md-6\" style=\"position: relative\"><p style=\"margin-top: 3px;\">Los Angeles Lakers</p></div><div class= \"col-md-4\"><p style= \"text-align: center; position: absolute; top: 50%;\">104</p></div></div></div><div class= \"col-md-4\" style=\"padding: 5px;\"><div class = \"row\"><h3 style= \"text-align:center; padding: 5px;\">2019-11-08</h3><p style= \"text-align:center\";><i>FINAL</i></p></div><div class = \"row\" style=\"padding:3px;\"><div class= \"col-md-2\"><img src= https://stats.nba.com/media/img/teams/logos/MIA_logo.svg style= \"max-height: 40px; display: block; margin-left: auto;  margin-right: auto;\"/></div><div class= \"col-md-6\" style=\"position: relative\"><p style=\"margin-top: 3px;\">Miami Heat</p></div><div class= \"col-md-4\"><p style= \"text-align: center; position: absolute; top: 50%;\">80</p></div></div><div class = \"row\" style=\"padding:3px;\"><div class= \"col-md-2\"><img src= https://stats.nba.com/media/img/teams/logos/LAL_logo.svg style= \"max-height: 40px; display: block; margin-left: auto;  margin-right: auto;\"/></div><div class= \"col-md-6\" style=\"position: relative\"><p style=\"margin-top: 3px;\">Los Angeles Lakers</p></div><div class= \"col-md-4\"><p style= \"text-align: center; position: absolute; top: 50%;\">95</p></div></div></div><div class= \"col-md-4\" style=\"padding: 5px;\"><div class = \"row\"><h3 style= \"text-align:center; padding: 5px;\">2019-11-05</h3><p style= \"text-align:center\";><i>FINAL</i></p></div><div class = \"row\" style=\"padding:3px;\"><div class= \"col-md-2\"><img src= https://stats.nba.com/media/img/teams/logos/LAL_logo.svg style= \"max-height: 40px; display: block; margin-left: auto;  margin-right: auto;\"/></div><div class= \"col-md-6\" style=\"position: relative\"><p style=\"margin-top: 3px;\">Los Angeles Lakers</p></div><div class= \"col-md-4\"><p style= \"text-align: center; position: absolute; top: 50%;\">118</p></div></div><div class = \"row\" style=\"padding:3px;\"><div class= \"col-md-2\"><img src= https://stats.nba.com/media/img/teams/logos/CHI_logo.svg style= \"max-height: 40px; display: block; margin-left: auto;  margin-right: auto;\"/></div><div class= \"col-md-6\" style=\"position: relative\"><p style=\"margin-top: 3px;\">Chicago Bulls</p></div><div class= \"col-md-4\"><p style= \"text-align: center; position: absolute; top: 50%;\">112</p></div></div></div></div><div class = \"row\"><div class= \"col-md-4\" style=\"padding: 5px;\"><div class = \"row\"><h3 style= \"text-align:center; padding: 5px;\">2019-11-03</h3><p style= \"text-align:center\";><i>FINAL</i></p></div><div class = \"row\" style=\"padding:3px;\"><div class= \"col-md-2\"><img src= https://stats.nba.com/media/img/teams/logos/LAL_logo.svg style= \"max-height: 40px; display: block; margin-left: auto;  margin-right: auto;\"/></div><div class= \"col-md-6\" style=\"position: relative\"><p style=\"margin-top: 3px;\">Los Angeles Lakers</p></div><div class= \"col-md-4\"><p style= \"text-align: center; position: absolute; top: 50%;\">103</p></div></div><div class = \"row\" style=\"padding:3px;\"><div class= \"col-md-2\"><img src= https://stats.nba.com/media/img/teams/logos/SAS_logo.svg style= \"max-height: 40px; display: block; margin-left: auto;  margin-right: auto;\"/></div><div class= \"col-md-6\" style=\"position: relative\"><p style=\"margin-top: 3px;\">San Antonio Spurs</p></div><div class= \"col-md-4\"><p style= \"text-align: center; position: absolute; top: 50%;\">96</p></div></div></div><div class= \"col-md-4\" style=\"padding: 5px;\"><div class = \"row\"><h3 style= \"text-align:center; padding: 5px;\">2019-11-01</h3><p style= \"text-align:center\";><i>FINAL</i></p></div><div class = \"row\" style=\"padding:3px;\"><div class= \"col-md-2\"><img src= https://stats.nba.com/media/img/teams/logos/LAL_logo.svg style= \"max-height: 40px; display: block; margin-left: auto;  margin-right: auto;\"/></div><div class= \"col-md-6\" style=\"position: relative\"><p style=\"margin-top: 3px;\">Los Angeles Lakers</p></div><div class= \"col-md-4\"><p style= \"text-align: center; position: absolute; top: 50%;\">119</p></div></div><div class = \"row\" style=\"padding:3px;\"><div class= \"col-md-2\"><img src= https://stats.nba.com/media/img/teams/logos/DAL_logo.svg style= \"max-height: 40px; display: block; margin-left: auto;  margin-right: auto;\"/></div><div class= \"col-md-6\" style=\"position: relative\"><p style=\"margin-top: 3px;\">Dallas Mavericks</p></div><div class= \"col-md-4\"><p style= \"text-align: center; position: absolute; top: 50%;\">110</p></div></div></div><div class= \"col-md-4\" style=\"padding: 5px;\"><div class = \"row\"><h3 style= \"text-align:center; padding: 5px;\">2019-10-29</h3><p style= \"text-align:center\";><i>FINAL</i></p></div><div class = \"row\" style=\"padding:3px;\"><div class= \"col-md-2\"><img src= https://stats.nba.com/media/img/teams/logos/MEM_logo.svg style= \"max-height: 40px; display: block; margin-left: auto;  margin-right: auto;\"/></div><div class= \"col-md-6\" style=\"position: relative\"><p style=\"margin-top: 3px;\">Memphis Grizzlies</p></div><div class= \"col-md-4\"><p style= \"text-align: center; position: absolute; top: 50%;\">91</p></div></div><div class = \"row\" style=\"padding:3px;\"><div class= \"col-md-2\"><img src= https://stats.nba.com/media/img/teams/logos/LAL_logo.svg style= \"max-height: 40px; display: block; margin-left: auto;  margin-right: auto;\"/></div><div class= \"col-md-6\" style=\"position: relative\"><p style=\"margin-top: 3px;\">Los Angeles Lakers</p></div><div class= \"col-md-4\"><p style= \"text-align: center; position: absolute; top: 50%;\">120</p></div></div></div></div><div class = \"row\"><div class= \"col-md-4\" style=\"padding: 5px;\"><div class = \"row\"><h3 style= \"text-align:center; padding: 5px;\">2019-10-27</h3><p style= \"text-align:center\";><i>FINAL</i></p></div><div class = \"row\" style=\"padding:3px;\"><div class= \"col-md-2\"><img src= https://stats.nba.com/media/img/teams/logos/CHA_logo.svg style= \"max-height: 40px; display: block; margin-left: auto;  margin-right: auto;\"/></div><div class= \"col-md-6\" style=\"position: relative\"><p style=\"margin-top: 3px;\">Charlotte Hornets</p></div><div class= \"col-md-4\"><p style= \"text-align: center; position: absolute; top: 50%;\">101</p></div></div><div class = \"row\" style=\"padding:3px;\"><div class= \"col-md-2\"><img src= https://stats.nba.com/media/img/teams/logos/LAL_logo.svg style= \"max-height: 40px; display: block; margin-left: auto;  margin-right: auto;\"/></div><div class= \"col-md-6\" style=\"position: relative\"><p style=\"margin-top: 3px;\">Los Angeles Lakers</p></div><div class= \"col-md-4\"><p style= \"text-align: center; position: absolute; top: 50%;\">120</p></div></div></div><div class= \"col-md-4\" style=\"padding: 5px;\"><div class = \"row\"><h3 style= \"text-align:center; padding: 5px;\">2019-10-25</h3><p style= \"text-align:center\";><i>FINAL</i></p></div><div class = \"row\" style=\"padding:3px;\"><div class= \"col-md-2\"><img src= https://stats.nba.com/media/img/teams/logos/UTA_logo.svg style= \"max-height: 40px; display: block; margin-left: auto;  margin-right: auto;\"/></div><div class= \"col-md-6\" style=\"position: relative\"><p style=\"margin-top: 3px;\">Utah Jazz</p></div><div class= \"col-md-4\"><p style= \"text-align: center; position: absolute; top: 50%;\">86</p></div></div><div class = \"row\" style=\"padding:3px;\"><div class= \"col-md-2\"><img src= https://stats.nba.com/media/img/teams/logos/LAL_logo.svg style= \"max-height: 40px; display: block; margin-left: auto;  margin-right: auto;\"/></div><div class= \"col-md-6\" style=\"position: relative\"><p style=\"margin-top: 3px;\">Los Angeles Lakers</p></div><div class= \"col-md-4\"><p style= \"text-align: center; position: absolute; top: 50%;\">95</p></div></div></div><div class= \"col-md-4\" style=\"padding: 5px;\"><div class = \"row\"><h3 style= \"text-align:center; padding: 5px;\">2019-10-22</h3><p style= \"text-align:center\";><i>FINAL</i></p></div><div class = \"row\" style=\"padding:3px;\"><div class= \"col-md-2\"><img src= https://stats.nba.com/media/img/teams/logos/LAL_logo.svg style= \"max-height: 40px; display: block; margin-left: auto;  margin-right: auto;\"/></div><div class= \"col-md-6\" style=\"position: relative\"><p style=\"margin-top: 3px;\">Los Angeles Lakers</p></div><div class= \"col-md-4\"><p style= \"text-align: center; position: absolute; top: 50%;\">102</p></div></div><div class = \"row\" style=\"padding:3px;\"><div class= \"col-md-2\"><img src= https://stats.nba.com/media/img/teams/logos/LAC_logo.svg style= \"max-height: 40px; display: block; margin-left: auto;  margin-right: auto;\"/></div><div class= \"col-md-6\" style=\"position: relative\"><p style=\"margin-top: 3px;\">LA Clippers</p></div><div class= \"col-md-4\"><p style= \"text-align: center; position: absolute; top: 50%;\">112</p></div></div></div>"
      ],
      "text/plain": [
       "<IPython.core.display.HTML object>"
      ]
     },
     "execution_count": 59,
     "metadata": {},
     "output_type": "execute_result"
    }
   ],
   "source": [
    "HTML(html)"
   ]
  },
  {
   "cell_type": "code",
   "execution_count": null,
   "metadata": {},
   "outputs": [],
   "source": []
  }
 ],
 "metadata": {
  "kernelspec": {
   "display_name": "Python 3",
   "language": "python",
   "name": "python3"
  },
  "language_info": {
   "codemirror_mode": {
    "name": "ipython",
    "version": 3
   },
   "file_extension": ".py",
   "mimetype": "text/x-python",
   "name": "python",
   "nbconvert_exporter": "python",
   "pygments_lexer": "ipython3",
   "version": "3.7.1"
  }
 },
 "nbformat": 4,
 "nbformat_minor": 2
}
