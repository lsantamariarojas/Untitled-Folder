{
 "cells": [
  {
   "cell_type": "code",
   "execution_count": 1,
   "metadata": {},
   "outputs": [],
   "source": [
    "import sys\n",
    "sys.path.insert(0, \"C:/Users/luisa/Documents/GitHub/Web-Spider---Sentiment-Analysis/venv/env/Lib/site-packages\")"
   ]
  },
  {
   "cell_type": "code",
   "execution_count": 104,
   "metadata": {},
   "outputs": [],
   "source": [
    "from selenium import webdriver\n",
    "from selenium.webdriver.common.keys import Keys\n",
    "from selenium.webdriver.common.by import By\n",
    "from selenium.webdriver.support.ui import WebDriverWait\n",
    "from selenium.webdriver.support import expected_conditions as EC\n",
    "import pandas as pd\n",
    "from IPython.core.display import display, HTML\n",
    "import datetime as dt\n",
    "import warnings\n",
    "import numpy as np\n",
    "import pytz\n",
    "\n",
    "from ipywidgets import interact, interactive, fixed, interact_manual, Box, VBox, Label, Layout, HBox\n",
    "import ipywidgets as widgets"
   ]
  },
  {
   "cell_type": "code",
   "execution_count": 3,
   "metadata": {},
   "outputs": [],
   "source": [
    "url_stats = 'https://stats.nba.com/schedule/'\n",
    "url_logos = 'https://stats.nba.com/teams/'"
   ]
  },
  {
   "cell_type": "code",
   "execution_count": 4,
   "metadata": {},
   "outputs": [],
   "source": [
    "driver = webdriver.Firefox()"
   ]
  },
  {
   "cell_type": "code",
   "execution_count": 5,
   "metadata": {},
   "outputs": [],
   "source": [
    "driver.get(url_logos)"
   ]
  },
  {
   "cell_type": "code",
   "execution_count": 1,
   "metadata": {},
   "outputs": [
    {
     "ename": "NameError",
     "evalue": "name 'pd' is not defined",
     "output_type": "error",
     "traceback": [
      "\u001b[1;31m---------------------------------------------------------------------------\u001b[0m",
      "\u001b[1;31mNameError\u001b[0m                                 Traceback (most recent call last)",
      "\u001b[1;32m<ipython-input-1-f7f55c42c032>\u001b[0m in \u001b[0;36m<module>\u001b[1;34m\u001b[0m\n\u001b[1;32m----> 1\u001b[1;33m \u001b[0mlogos\u001b[0m \u001b[1;33m=\u001b[0m \u001b[0mpd\u001b[0m\u001b[1;33m.\u001b[0m\u001b[0mDataFrame\u001b[0m\u001b[1;33m(\u001b[0m\u001b[0mcolumns\u001b[0m \u001b[1;33m=\u001b[0m \u001b[1;33m[\u001b[0m\u001b[1;34m'logo'\u001b[0m\u001b[1;33m,\u001b[0m \u001b[1;34m'team_temp'\u001b[0m\u001b[1;33m]\u001b[0m\u001b[1;33m)\u001b[0m\u001b[1;33m\u001b[0m\u001b[1;33m\u001b[0m\u001b[0m\n\u001b[0m\u001b[0;32m      2\u001b[0m \u001b[0mteam_list\u001b[0m \u001b[1;33m=\u001b[0m \u001b[0mdriver\u001b[0m\u001b[1;33m.\u001b[0m\u001b[0mfind_elements_by_xpath\u001b[0m\u001b[1;33m(\u001b[0m\u001b[1;34m\"//a[contains(@class, 'stats-team-list')]\"\u001b[0m\u001b[1;33m)\u001b[0m\u001b[1;33m\u001b[0m\u001b[1;33m\u001b[0m\u001b[0m\n\u001b[0;32m      3\u001b[0m \u001b[1;32mfor\u001b[0m \u001b[0mi\u001b[0m\u001b[1;33m,\u001b[0m \u001b[0mv\u001b[0m \u001b[1;32min\u001b[0m \u001b[0menumerate\u001b[0m\u001b[1;33m(\u001b[0m\u001b[0mdriver\u001b[0m\u001b[1;33m.\u001b[0m\u001b[0mfind_elements_by_xpath\u001b[0m\u001b[1;33m(\u001b[0m\u001b[1;34m\"//img[contains(@class, 'team-logo')]\"\u001b[0m\u001b[1;33m)\u001b[0m\u001b[1;33m)\u001b[0m\u001b[1;33m:\u001b[0m\u001b[1;33m\u001b[0m\u001b[1;33m\u001b[0m\u001b[0m\n\u001b[0;32m      4\u001b[0m     \u001b[0mlogos\u001b[0m\u001b[1;33m.\u001b[0m\u001b[0mloc\u001b[0m\u001b[1;33m[\u001b[0m\u001b[0mi\u001b[0m\u001b[1;33m,\u001b[0m \u001b[1;34m'logo'\u001b[0m\u001b[1;33m]\u001b[0m \u001b[1;33m=\u001b[0m \u001b[0mv\u001b[0m\u001b[1;33m.\u001b[0m\u001b[0mget_attribute\u001b[0m\u001b[1;33m(\u001b[0m\u001b[1;34m'src'\u001b[0m\u001b[1;33m)\u001b[0m\u001b[1;33m\u001b[0m\u001b[1;33m\u001b[0m\u001b[0m\n\u001b[0;32m      5\u001b[0m     \u001b[0mlogos\u001b[0m\u001b[1;33m.\u001b[0m\u001b[0mloc\u001b[0m\u001b[1;33m[\u001b[0m\u001b[0mi\u001b[0m\u001b[1;33m,\u001b[0m \u001b[1;34m'team_temp'\u001b[0m\u001b[1;33m]\u001b[0m \u001b[1;33m=\u001b[0m \u001b[0mteam_list\u001b[0m\u001b[1;33m[\u001b[0m\u001b[0mi\u001b[0m\u001b[1;33m]\u001b[0m\u001b[1;33m.\u001b[0m\u001b[0mtext\u001b[0m\u001b[1;33m\u001b[0m\u001b[1;33m\u001b[0m\u001b[0m\n",
      "\u001b[1;31mNameError\u001b[0m: name 'pd' is not defined"
     ]
    }
   ],
   "source": [
    "logos = pd.DataFrame(columns = ['logo', 'team_temp'])\n",
    "team_list = driver.find_elements_by_xpath(\"//a[contains(@class, 'stats-team-list')]\")\n",
    "for i, v in enumerate(driver.find_elements_by_xpath(\"//img[contains(@class, 'team-logo')]\")):\n",
    "    logos.loc[i, 'logo'] = v.get_attribute('src')\n",
    "    logos.loc[i, 'team_temp'] = team_list[i].text"
   ]
  },
  {
   "cell_type": "code",
   "execution_count": 30,
   "metadata": {},
   "outputs": [
    {
     "data": {
      "text/html": [
       "<div>\n",
       "<style scoped>\n",
       "    .dataframe tbody tr th:only-of-type {\n",
       "        vertical-align: middle;\n",
       "    }\n",
       "\n",
       "    .dataframe tbody tr th {\n",
       "        vertical-align: top;\n",
       "    }\n",
       "\n",
       "    .dataframe thead th {\n",
       "        text-align: right;\n",
       "    }\n",
       "</style>\n",
       "<table border=\"1\" class=\"dataframe\">\n",
       "  <thead>\n",
       "    <tr style=\"text-align: right;\">\n",
       "      <th></th>\n",
       "      <th>logo</th>\n",
       "      <th>team_temp</th>\n",
       "    </tr>\n",
       "  </thead>\n",
       "  <tbody>\n",
       "    <tr>\n",
       "      <td>0</td>\n",
       "      <td>https://stats.nba.com/media/img/teams/logos/BO...</td>\n",
       "      <td>Boston Celtics</td>\n",
       "    </tr>\n",
       "    <tr>\n",
       "      <td>1</td>\n",
       "      <td>https://stats.nba.com/media/img/teams/logos/BK...</td>\n",
       "      <td>Brooklyn Nets</td>\n",
       "    </tr>\n",
       "    <tr>\n",
       "      <td>2</td>\n",
       "      <td>https://stats.nba.com/media/img/teams/logos/NY...</td>\n",
       "      <td>New York Knicks</td>\n",
       "    </tr>\n",
       "    <tr>\n",
       "      <td>3</td>\n",
       "      <td>https://stats.nba.com/media/img/teams/logos/PH...</td>\n",
       "      <td>Philadelphia 76ers</td>\n",
       "    </tr>\n",
       "    <tr>\n",
       "      <td>4</td>\n",
       "      <td>https://stats.nba.com/media/img/teams/logos/TO...</td>\n",
       "      <td>Toronto Raptors</td>\n",
       "    </tr>\n",
       "  </tbody>\n",
       "</table>\n",
       "</div>"
      ],
      "text/plain": [
       "                                                logo           team_temp\n",
       "0  https://stats.nba.com/media/img/teams/logos/BO...      Boston Celtics\n",
       "1  https://stats.nba.com/media/img/teams/logos/BK...       Brooklyn Nets\n",
       "2  https://stats.nba.com/media/img/teams/logos/NY...     New York Knicks\n",
       "3  https://stats.nba.com/media/img/teams/logos/PH...  Philadelphia 76ers\n",
       "4  https://stats.nba.com/media/img/teams/logos/TO...     Toronto Raptors"
      ]
     },
     "execution_count": 30,
     "metadata": {},
     "output_type": "execute_result"
    }
   ],
   "source": [
    "logos.head()"
   ]
  },
  {
   "cell_type": "code",
   "execution_count": 8,
   "metadata": {},
   "outputs": [
    {
     "data": {
      "text/html": [
       "<img src=https://stats.nba.com/media/img/teams/logos/BOS_logo.svg ></img>"
      ],
      "text/plain": [
       "<IPython.core.display.HTML object>"
      ]
     },
     "execution_count": 8,
     "metadata": {},
     "output_type": "execute_result"
    }
   ],
   "source": [
    "HTML(\"<img src={} ></img>\".format(logos.loc[0, 'logo']))"
   ]
  },
  {
   "cell_type": "code",
   "execution_count": 86,
   "metadata": {},
   "outputs": [],
   "source": [
    "driver.get(url_stats)"
   ]
  },
  {
   "cell_type": "code",
   "execution_count": 128,
   "metadata": {},
   "outputs": [],
   "source": [
    "def retriever(live = True, initial_date = dt.date(2019,9,30), final_date = dt.date(2019, 10, 16), pre_season_games = True, selected_team = None):\n",
    "        \n",
    "    if live:\n",
    "        ini_date = dt.datetime.now(pytz.timezone('US/Pacific')).date()\n",
    "        final_date = dt.datetime.now(pytz.timezone('US/Pacific')).date()\n",
    "        selected_team = None\n",
    "    else:    \n",
    "        ini_date = initial_date\n",
    "        final_date = final_date\n",
    "        if selected_team != None:\n",
    "            selected_team = selected_team.capitalize()\n",
    "    if final_date > dt.datetime.now(pytz.timezone('US/Pacific')).date():\n",
    "        warnings.warn('Upper date selected is greater than today, will be change for todays\\'s date')\n",
    "        final_date = dt.datetime.now(pytz.timezone('US/Pacific')).date()                                \n",
    "    \n",
    "    driver.get(url_stats)\n",
    "    final_dataframe = pd.DataFrame(columns = ['game_date', 'team1', 'team2', 'status', 'team1_score', 'team2_score'])                                    \n",
    "    temp_dataframe = final_dataframe.copy()\n",
    "    \n",
    "    #WebDriverWait(driver, 15)\n",
    "    driver.execute_script(\"document.querySelector('[class=\\\"switch-paddle\\\"]').click()\")\n",
    "    wait = WebDriverWait(driver, 1)\n",
    "    show_more = wait.until(EC.element_to_be_clickable((By.XPATH,\"//a[@class='button' and @ng-click = 'seeMore()']\")))\n",
    "    show_more.click()\n",
    "    '''\n",
    "    for i in driver.find_elements_by_xpath(\"//label[@class='switch-paddle']\"):\n",
    "        try:\n",
    "            i.click()\n",
    "        except:\n",
    "            pass\n",
    "        \n",
    "    for i in driver.find_elements_by_xpath(\"//a[@class='button' and @ng-click = 'seeMore()']\"):\n",
    "        try:\n",
    "            i.click()\n",
    "        except:\n",
    "            pass\n",
    "    '''    \n",
    "\n",
    "    for i in driver.find_elements_by_xpath(\"//section[@class='row collapse schedule-content']\"):\n",
    "        date = i.get_attribute('data-game-day')\n",
    "        #print(date)\n",
    "        game_date = dt.date(int(date[0:4]), int(date[5:7]), int(date[8:10]))\n",
    "        if final_date >= game_date and ini_date <= game_date:\n",
    "            game_location = \".//tr[contains(@class, 'schedule-game__team')]\"\n",
    "            teams = format(\"|\").join([game_location + x for x in ['//a',  '//span']])\n",
    "            results = game_location + '/td[contains(@class, \"team-score\")]'\n",
    "            try:\n",
    "                length = len([x for x in i.find_elements_by_xpath(teams) if selected_team in x.text])\n",
    "            except:\n",
    "                length = 0\n",
    "                \n",
    "            if length > 0 or selected_team == None:\n",
    "                for j, v in enumerate(i.find_elements_by_xpath(teams)):\n",
    "                    team_score= i.find_elements_by_xpath(results)[j].text\n",
    "                    team = v.text\n",
    "                    pre_season = \"span[@class = 'schedule-game__season']\"\n",
    "                    final = \"span[contains(@ng-if, '::game.stt')]\"\n",
    "                    time = \"span[contains(@class, 'hide-for-pre-game')]\"\n",
    "                    ancestor = \".//ancestor::div[@class = 'row schedule-game__content']//\"\n",
    "                    both = format(\"|\").join(ancestor + x for x in [pre_season, final])\n",
    "                    current_time = v.find_elements_by_xpath(ancestor + time)[0].text\n",
    "                    \n",
    "                    try:\n",
    "                        status = format(\" - \").join([x.text for x in v.find_elements_by_xpath(both)])\n",
    "                        final_status = status + current_time   \n",
    "                        \n",
    "                        #print(\"PRE SEASON\" in status)\n",
    "                        if (\"PRE SEASON\" in status) & (pre_season_games == False):\n",
    "                            pass\n",
    "                        else:\n",
    "                            switch = j % 2\n",
    "                            temp_dataframe.loc[0, ['game_date', 'status']] = [date, final_status]                        \n",
    "                            temp_dataframe.loc[0, ['team{}'.format(switch + 1), 'team{}_score'.format(switch + 1)]] = [team, int(team_score)]\n",
    "                                                        \n",
    "                            if live:\n",
    "                                bool_live = len(current_time) > 0                                \n",
    "                            else:\n",
    "                                bool_live = True\n",
    "                            if switch == 1:\n",
    "                                try:\n",
    "                                    boolean = sum([selected_team in x for x in temp_dataframe[['team1', 'team2']].values[0]])\n",
    "                                except:\n",
    "                                    boolean = 0\n",
    "                                #print('this is bool {}'.format(selected_team == None or boolean > 0))\n",
    "                                if (selected_team == None or boolean > 0) and bool_live:\n",
    "                                    final_dataframe = pd.concat([final_dataframe, temp_dataframe], axis = 0)                             \n",
    "\n",
    "                    except:\n",
    "                        pass\n",
    "                    \n",
    "    return(final_dataframe)\n"
   ]
  },
  {
   "cell_type": "code",
   "execution_count": 129,
   "metadata": {},
   "outputs": [],
   "source": [
    "def rendering_html(selected_team, final_dataframe, logos, live, pre_season_games):\n",
    "    \n",
    "    if selected_team != None and selected_team != '' and live != True:\n",
    "        query_team = [x for x in final_dataframe[['team1', 'team2']].values[0] if selected_team.capitalize() in x]\n",
    "        team1_slot = final_dataframe[['team1']] == query_team[0]\n",
    "        team2_slot = (team1_slot - 1) * -1\n",
    "        results = final_dataframe['team1_score'] == final_dataframe[['team1_score', 'team2_score']].max(axis = 1)\n",
    "        wins = sum((team1_slot.iloc[:, 0].values * results.values) + (team2_slot.iloc[:, 0].values *(results.values - 1) * -1))\n",
    "        losses = final_dataframe.shape[0] - wins        \n",
    "        \n",
    "        \n",
    "        if len(query_team):\n",
    "            logo = [l for l, t in zip(logos['logo'], logos['team_temp']) if t == query_team[0]][0]\n",
    "            aggregate = \"({0} - {1})\".format(wins, losses)\n",
    "            pre_text = ''\n",
    "            if pre_season_games:\n",
    "                pre_text = 'Incl. Pre Season'\n",
    "            pre_text += ' in the query period'\n",
    "\n",
    "    intro_string = '<link rel=\"stylesheet\" href=\"https://www.w3schools.com/w3css/4/w3.css\">' \\\n",
    "         '<div class = \"container\">'\n",
    "    team_string = ''\n",
    "    if selected_team != None and selected_team != '' and live != True:\n",
    "        team_string = '<div class = \"row\">' \\\n",
    "                        '<div class= \"col-md-1\"><img src = {0} style=\"max-height: 100px;\" /></div>' \\\n",
    "                        '<div class= \"col-md-11\">' \\\n",
    "                            '<div class = \"row\"><h2 style= \"margin-left:20px;\">{1}</h2></div>' \\\n",
    "                            '<div class = \"row\"><p style= \"margin-left:20px;\"><b>{2}</b></p></div>' \\\n",
    "                            '<div class = \"row\"><p style= \"margin-left:20px;\"><i>{3}</i></p></div>' \\\n",
    "                      '</div></div>'.format(logo, query_team[0], aggregate, pre_text)\n",
    "    games_string = ''\n",
    "\n",
    "    for i, v in enumerate(final_dataframe['game_date']):\n",
    "        if i % 3 == 0:\n",
    "            if i > 0:\n",
    "                games_string += '</div>'\n",
    "            games_string += '<div class = \"row\">'\n",
    "        curr_status = final_dataframe.loc[i, 'status']\n",
    "        games_string += '<div class= \"col-md-4\" style=\"padding: 5px;\">'\\\n",
    "                            '<div class = \"row\">' \\\n",
    "                                '<h3 style= \"text-align:center; padding: 5px;\">{0}</h3>' \\\n",
    "                                '<p style= \"text-align:center\";><i>{1}</i></p>' \\\n",
    "                            '</div>'.format(v, curr_status)\n",
    "        for j in np.arange(1, 3):\n",
    "            curr_team = final_dataframe.loc[i, 'team{}'.format(j)]\n",
    "            curr_score = final_dataframe.loc[i, 'team{}_score'.format(j)]\n",
    "            curr_logo = final_dataframe.loc[i, 'logo{}'.format(j)]\n",
    "            games_string += '<div class = \"row\" style=\"padding:3px;\">' \\\n",
    "                                '<div class= \"col-md-2\"><img src= {0} style= \"max-height: 40px; display: block; margin-left: auto;  margin-right: auto;\"/></div>' \\\n",
    "                                '<div class= \"col-md-6\" style=\"position: relative\"><p style=\"margin-top: 3px;\">{1}</p></div>' \\\n",
    "                                '<div class= \"col-md-4\"><p style= \"text-align: center; position: absolute; top: 50%;\">{2}</p></div>' \\\n",
    "                            '</div>'.format(curr_logo, curr_team, curr_score)\n",
    "        games_string += '</div>'\n",
    "        if i == final_dataframe.shape[0]:\n",
    "            games_string += '</div></div>'\n",
    "\n",
    "\n",
    "     \n",
    "    html_string = intro_string + team_string + games_string\n",
    "    \n",
    "    return(html_string)"
   ]
  },
  {
   "cell_type": "code",
   "execution_count": 130,
   "metadata": {},
   "outputs": [],
   "source": [
    "def interactor(team, live, preseason, dates):\n",
    "\n",
    "    initial_date = dates[0]\n",
    "    final_date = dates[1]\n",
    "    pre_season_games = preseason\n",
    "    if team == '':\n",
    "        selected_team = None\n",
    "    else:\n",
    "        selected_team = team\n",
    "\n",
    "    #driver.get(url_stats)\n",
    "\n",
    "    if selected_team != None:\n",
    "        check = [x for x in logos['team_temp'] if selected_team.capitalize() in x]\n",
    "        if len(check) == 0:\n",
    "            raise AssertionError('Oooopss!! The typed team is not in the NBA')\n",
    "\n",
    "    data = retriever(live = live, initial_date = initial_date, final_date = final_date\n",
    "              , pre_season_games = pre_season_games, selected_team = selected_team)\n",
    "\n",
    "    with_logos = pd.merge(pd.merge(data, logos, how = 'left', left_on = 'team1', right_on = 'team_temp'), \n",
    "                          logos,  how = 'left', left_on = 'team2', right_on = 'team_temp', suffixes = (None,\"2\"))\n",
    "    with_logos.rename(columns = {'logo': 'logo1'}, inplace =True)\n",
    "    with_logos.sort_values(by = 'game_date', ascending = False, inplace = True)\n",
    "    with_logos.reset_index(inplace = True, drop = True)\n",
    "    html = rendering_html(selected_team = selected_team, final_dataframe = with_logos, logos = logos, live = live, \n",
    "                          pre_season_games = pre_season_games)\n",
    "    \n",
    "    return(HTML(html))"
   ]
  },
  {
   "cell_type": "code",
   "execution_count": 127,
   "metadata": {
    "scrolled": false
   },
   "outputs": [
    {
     "data": {
      "application/vnd.jupyter.widget-view+json": {
       "model_id": "51cedf0ac1ad4c3b9581edc039b6cdef",
       "version_major": 2,
       "version_minor": 0
      },
      "text/plain": [
       "Label(value='Select your options: ')"
      ]
     },
     "metadata": {},
     "output_type": "display_data"
    },
    {
     "data": {
      "application/vnd.jupyter.widget-view+json": {
       "model_id": "3aaeb13d1fd64a7a87fdd770b07d12fc",
       "version_major": 2,
       "version_minor": 0
      },
      "text/plain": [
       "interactive(children=(Text(value='', description='Team: ', placeholder='Type a team'), Checkbox(value=False, d…"
      ]
     },
     "metadata": {},
     "output_type": "display_data"
    },
    {
     "data": {
      "text/plain": [
       "<function __main__.interactor(team, live, preseason, dates)>"
      ]
     },
     "execution_count": 127,
     "metadata": {},
     "output_type": "execute_result"
    }
   ],
   "source": [
    "team_w = widgets.Text(value=None, placeholder='Type a team', disabled=False, description='Team: ')\n",
    "live_w = widgets.Checkbox(value=False, description='Live Games', disabled=False)\n",
    "pre_w = widgets.Checkbox(value=False, description='Pre Season Games', disabled=False)\n",
    "\n",
    "gap = (dt.datetime.now(pytz.timezone('US/Pacific')).date() - dt.date(2019, 9, 30)).days\n",
    "dates = [dt.date(2019, 9, 30) +  dt.timedelta(days=x) for x in range(0, gap)]\n",
    "options = [(i.strftime('%d/%m/%Y'), i) for i in dates]\n",
    "date_w = widgets.SelectionRangeSlider(options=options, index=(0, gap -1), description='Dates', \n",
    "                                      disabled=False, layout = Layout(width = '600px'))\n",
    "\n",
    "def test(a, b, c, d):\n",
    "    print(a == '', b, c, d[0])\n",
    "\n",
    "\n",
    "display(Label(\"Select your options: \"))\n",
    "#display(date_w)\n",
    "#display(all_widgets)\n",
    "interact_manual(interactor, team = team_w, live = live_w, preseason = pre_w, dates = date_w)"
   ]
  },
  {
   "cell_type": "code",
   "execution_count": 116,
   "metadata": {},
   "outputs": [],
   "source": [
    "driver.execute_script(\"document.querySelector('[class=\\\"switch-paddle\\\"]').click()\")"
   ]
  },
  {
   "cell_type": "code",
   "execution_count": 1,
   "metadata": {},
   "outputs": [],
   "source": [
    "a = {'sdsd':1,'asa':2}"
   ]
  },
  {
   "cell_type": "code",
   "execution_count": 7,
   "metadata": {},
   "outputs": [
    {
     "data": {
      "text/plain": [
       "'sdsd'"
      ]
     },
     "execution_count": 7,
     "metadata": {},
     "output_type": "execute_result"
    }
   ],
   "source": [
    "[i for i, v in a.items()][0] "
   ]
  },
  {
   "cell_type": "code",
   "execution_count": null,
   "metadata": {},
   "outputs": [],
   "source": []
  }
 ],
 "metadata": {
  "kernelspec": {
   "display_name": "Python 3",
   "language": "python",
   "name": "python3"
  },
  "language_info": {
   "codemirror_mode": {
    "name": "ipython",
    "version": 3
   },
   "file_extension": ".py",
   "mimetype": "text/x-python",
   "name": "python",
   "nbconvert_exporter": "python",
   "pygments_lexer": "ipython3",
   "version": "3.7.4"
  }
 },
 "nbformat": 4,
 "nbformat_minor": 2
}
